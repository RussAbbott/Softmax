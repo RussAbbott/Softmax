{
  "nbformat": 4,
  "nbformat_minor": 0,
  "metadata": {
    "colab": {
      "provenance": [],
      "authorship_tag": "ABX9TyMMohGr+ipJz2PBvp1qrR9u",
      "include_colab_link": true
    },
    "kernelspec": {
      "name": "python3",
      "display_name": "Python 3"
    },
    "language_info": {
      "name": "python"
    }
  },
  "cells": [
    {
      "cell_type": "markdown",
      "metadata": {
        "id": "view-in-github",
        "colab_type": "text"
      },
      "source": [
        "<a href=\"https://colab.research.google.com/github/RussAbbott/Softmax/blob/main/Softmax.ipynb\" target=\"_parent\"><img src=\"https://colab.research.google.com/assets/colab-badge.svg\" alt=\"Open In Colab\"/></a>"
      ]
    },
    {
      "cell_type": "code",
      "execution_count": null,
      "metadata": {
        "id": "0swyHp2RChen",
        "outputId": "c6e2a698-08fb-412f-ab44-a3a208a2ea1c",
        "colab": {
          "base_uri": "https://localhost:8080/"
        }
      },
      "outputs": [
        {
          "output_type": "stream",
          "name": "stdout",
          "text": [
            "z = [-3, -2, -1, 0, 1, 2, 3, 4]\n",
            "\n",
            "fn.__name__ = 'id'\n",
            "fn_z = [-3, -2, -1, 0, 1, 2, 3, 4]\n",
            "[-0.75, -0.5, -0.25, 0.0, 0.25, 0.5, 0.75, 1.0]\n",
            "\n",
            "fn.__name__ = 'exp'\n",
            "fn_z = [0.05, 0.14, 0.37, 1.0, 2.72, 7.39, 20.09, 54.6]\n",
            "[0.0, 0.0, 0.0, 0.01, 0.03, 0.09, 0.23, 0.63]\n",
            "\n",
            "fn.__name__ = 'pow9'\n",
            "fn_z = [0.0, 0.01, 0.11, 1, 9, 81, 729, 6561]\n",
            "[0.0, 0.0, 0.0, 0.0, 0.0, 0.01, 0.1, 0.89]\n",
            "\n"
          ]
        }
      ],
      "source": [
        "from math import exp\n",
        "def softmax(z, fn):\n",
        "    '''Return the \"pseudo-softmax\" of a vector z.'''\n",
        "    # Apply fn to the elements of z\n",
        "    fn_z = [round(fn(x), 2) for x in z]\n",
        "    # Take the sum of those values.\n",
        "    sum_z = sum(fn_z)\n",
        "    # Divide each value by that sum and round to two decimal places.\n",
        "    softmax_z = [round(x/sum_z, 2) for x in fn_z]\n",
        "    # Return the resulting arrays.\n",
        "    return fn_z, softmax_z\n",
        "\n",
        "z = list(range(-3, 5))\n",
        "print(f'{z = }\\n')\n",
        "def id(x): return x\n",
        "def pow9(x): return 9**x\n",
        "for fn in [id, exp, pow9]:\n",
        "    # When fn = exp, we get the real softmax\n",
        "    fn_z, sftmax = softmax(z, fn)\n",
        "    print(f'{fn.__name__ = }\\n{fn_z = }\\n{sftmax}\\n')"
      ]
    }
  ]
}