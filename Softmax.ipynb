{
  "nbformat": 4,
  "nbformat_minor": 0,
  "metadata": {
    "colab": {
      "provenance": [],
      "authorship_tag": "ABX9TyPQpwTrQXFsu1cvahujm8XD",
      "include_colab_link": true
    },
    "kernelspec": {
      "name": "python3",
      "display_name": "Python 3"
    },
    "language_info": {
      "name": "python"
    }
  },
  "cells": [
    {
      "cell_type": "markdown",
      "metadata": {
        "id": "view-in-github",
        "colab_type": "text"
      },
      "source": [
        "<a href=\"https://colab.research.google.com/github/RussAbbott/Softmax/blob/main/Softmax.ipynb\" target=\"_parent\"><img src=\"https://colab.research.google.com/assets/colab-badge.svg\" alt=\"Open In Colab\"/></a>"
      ]
    },
    {
      "cell_type": "code",
      "execution_count": null,
      "metadata": {
        "id": "0swyHp2RChen",
        "outputId": "90fb55e0-bdc5-4d4f-f248-33700615df09",
        "colab": {
          "base_uri": "https://localhost:8080/"
        }
      },
      "outputs": [
        {
          "output_type": "stream",
          "name": "stdout",
          "text": [
            "z = [-3, -2, -1, 0, 1, 2, 3, 4]\n",
            "\n",
            "fn.__name__ = 'neg_exp'\n",
            "fn_z = [20.09, 7.39, 2.72, 1.0, 0.37, 0.14, 0.05, 0.02]\n",
            "[0.63, 0.23, 0.09, 0.03, 0.01, 0.0, 0.0, 0.0]\n",
            "\n",
            "fn.__name__ = 'id'\n",
            "fn_z = [-3, -2, -1, 0, 1, 2, 3, 4]\n",
            "[-0.75, -0.5, -0.25, 0.0, 0.25, 0.5, 0.75, 1.0]\n",
            "\n",
            "fn.__name__ = 'sqr'\n",
            "fn_z = [9, 4, 1, 0, 1, 4, 9, 16]\n",
            "[0.2, 0.09, 0.02, 0.0, 0.02, 0.09, 0.2, 0.36]\n",
            "\n",
            "fn.__name__ = 'exp'\n",
            "fn_z = [0.05, 0.14, 0.37, 1.0, 2.72, 7.39, 20.09, 54.6]\n",
            "[0.0, 0.0, 0.0, 0.01, 0.03, 0.09, 0.23, 0.63]\n",
            "\n",
            "fn.__name__ = 'pow9'\n",
            "fn_z = [0.0, 0.01, 0.11, 1, 9, 81, 729, 6561]\n",
            "[0.0, 0.0, 0.0, 0.0, 0.0, 0.01, 0.1, 0.89]\n",
            "\n"
          ]
        }
      ],
      "source": [
        "from math import exp\n",
        "def softmax(z, fn):\n",
        "    '''Return the \"pseudo-softmax\" of a vector z.'''\n",
        "    # Apply fn to the elements of z\n",
        "    fn_z = [round(fn(x), 2) for x in z]\n",
        "    # Take the sum of those values.\n",
        "    sum_z = sum(fn_z)\n",
        "    # Divide each value by that sum and round to two decimal places.\n",
        "    softmax_z = [round(x/sum_z, 2) for x in fn_z]\n",
        "    # Return the resulting arrays.\n",
        "    return fn_z, softmax_z\n",
        "\n",
        "z = list(range(-3, 5))\n",
        "print(f'{z = }\\n')\n",
        "def neg_exp(x): return exp(-x)\n",
        "def sqr(x): return x*x\n",
        "def id(x): return x\n",
        "def pow9(x): return 9**x\n",
        "for fn in [neg_exp, sqr, id, exp, pow9]:\n",
        "    # When fn = exp, we get traditional softmax\n",
        "    fn_z, sftmax = softmax(z, fn)\n",
        "    print(f'{fn.__name__ = }\\n{fn_z = }\\n{sftmax}\\n')"
      ]
    },
    {
      "cell_type": "code",
      "source": [
        "# Draw exp(x) with x between -3 and 4\n",
        "\n",
        "import matplotlib.pyplot as plt\n",
        "import numpy as np\n",
        "\n",
        "# Generate x values in the range -3 to 4\n",
        "x = np.linspace(-3, 4, 100)\n",
        "\n",
        "# Calculate the corresponding y values using exp(x)\n",
        "y = np.exp(x)\n",
        "\n",
        "# Create the plot\n",
        "plt.plot(x, y)\n",
        "\n",
        "# Set the title and labels\n",
        "plt.title(\"Graph of exp(x)\")\n",
        "plt.xlabel(\"x\")\n",
        "plt.ylabel(\"exp(x)\")\n",
        "\n",
        "# Add gridlines\n",
        "plt.grid(True)\n",
        "\n",
        "# Add horizontal line at y = e\n",
        "plt.axhline(y=np.e, color='red', linestyle='--')\n",
        "\n",
        "# Add 'e' as label\n",
        "# Get current y-tick locations and labels\n",
        "ticks, labels = plt.yticks()\n",
        "\n",
        "# Note that ticks is of type numpy.ndarray and labels is of type list.\n",
        "print(f'\\n{type(ticks) = }, {type(labels) = }')\n",
        "\n",
        "# Add a new tick and new label at e\n",
        "# Add the new tick.\n",
        "# ( np.append() does not append in place like Python.  )\n",
        "new_ticks = np.append(ticks, np.e)\n",
        "# Using np.append on labels will return a numpy ndarray\n",
        "# new_labels = np.append(labels, 'e')\n",
        "# Instead, add a new label at e with list concatenation.\n",
        "# Could also do it with labels.append('e'), which modifies the original list.\n",
        "new_labels = labels + ['e']\n",
        "print(f'{type(new_ticks) = }, {type(new_labels) = }\\n')\n",
        "\n",
        "# list concatenation doesn't work as I had expected on numpy.ndarrays.\n",
        "# Instead of concatenation, it does array arithmetic. (See example below.)\n",
        "# new_ticks = ticks + [np.e]\n",
        "\n",
        "# Set the new tick locations and labels\n",
        "plt.yticks(new_ticks, labels=new_labels)\n",
        "\n",
        "# Draw a bold line at x = 0\n",
        "plt.axvline(x=0, color='black', linewidth=2)\n",
        "\n",
        "# Display the plot\n",
        "plt.show()"
      ],
      "metadata": {
        "colab": {
          "base_uri": "https://localhost:8080/",
          "height": 541
        },
        "id": "nJ1zc2m6IQi1",
        "outputId": "aa808a5d-eab5-4377-e67e-17ae912b459c"
      },
      "execution_count": 11,
      "outputs": [
        {
          "output_type": "stream",
          "name": "stdout",
          "text": [
            "\n",
            "type(ticks) = <class 'numpy.ndarray'>, type(labels) = <class 'list'>\n",
            "type(new_ticks) = <class 'numpy.ndarray'>, type(new_labels) = <class 'list'>\n",
            "\n"
          ]
        },
        {
          "output_type": "display_data",
          "data": {
            "text/plain": [
              "<Figure size 640x480 with 1 Axes>"
            ],
            "image/png": "[encoded data removed]"
          },
          "metadata": {}
        }
      ]
    },
    {
      "cell_type": "code",
      "source": [
        "import gensim.downloader\n",
        "\n",
        "model = gensim.downloader.load('glove-wiki-gigaword-50')\n"
      ],
      "metadata": {
        "id": "0IRjGqDKpm0h",
        "colab": {
          "base_uri": "https://localhost:8080/"
        },
        "outputId": "350f680d-fc4d-42fc-ebc3-0b1d071166d8"
      },
      "execution_count": 13,
      "outputs": [
        {
          "output_type": "stream",
          "name": "stdout",
          "text": [
            "[==================================================] 100.0% 66.0/66.0MB downloaded\n"
          ]
        }
      ]
    },
    {
      "cell_type": "code",
      "source": [
        "# Much of this was written with the help of Gemini.\n",
        "\n",
        "from math import floor\n",
        "\n",
        "def show_most_similar(word_or_vec, min_similarity=0.75):\n",
        "    '''\n",
        "    The argument can be either a word or a list (a vector embedding).\n",
        "    Must access the vocabulary differently for words vs vectors.\n",
        "\n",
        "    Don't know why colab generates errors. The code runs as expected.\n",
        "    '''\n",
        "    most_similar = model.most_similar(word_or_vec) if type(word_or_vec) == str else \\\n",
        "                   model.most_similar(positive=[word_or_vec])\n",
        "    print('\\n', word_or_vec if type(word_or_vec) == str else 'a vector',\n",
        "          [f'{w}: {floor(round(100*sim, 0))}' for w, sim in most_similar if sim >= min_similarity])\n",
        "\n",
        "# model[<word>] returns the word's embedding as an numpy.ndarray, which supports array arithmetic.\n",
        "soccer_minus_ball_plus_puck = model['soccer'] - model['ball'] + model['puck']\n",
        "\n",
        "# Example of array arithmetic.\n",
        "print(f'{np.array([1, 2, 3, 4]) - np.array([5, 4, 3, 2]) + np.array([9, 9, 9, 9]) = }')\n",
        "\n",
        "for w_or_v in ['cat', 'dog', 'tower', 'car', 'baby', 'banana', 'pear', 'apple', 'blackberry', soccer_minus_ball_plus_puck]:\n",
        "    show_most_similar(w_or_v)\n",
        "\n",
        "# Find other words similar to 'apple'. Still no fruits.\n",
        "show_most_similar('apple', min_similarity=0)\n"
      ],
      "metadata": {
        "colab": {
          "base_uri": "https://localhost:8080/"
        },
        "id": "nldJfdhKbCWg",
        "outputId": "268caf39-393f-4d02-b837-b40a42c380fb"
      },
      "execution_count": 19,
      "outputs": [
        {
          "output_type": "stream",
          "name": "stdout",
          "text": [
            "np.array([1, 2, 3, 4]) - np.array([5, 4, 3, 2]) + np.array([9, 9, 9, 9]) = array([ 5,  7,  9, 11])\n",
            "\n",
            " cat ['dog: 92', 'rabbit: 85', 'monkey: 80', 'rat: 79', 'cats: 79', 'snake: 78', 'dogs: 78', 'pet: 78', 'mouse: 77', 'bite: 77']\n",
            "\n",
            " dog ['cat: 92', 'dogs: 85', 'horse: 79', 'puppy: 78', 'pet: 77', 'rabbit: 77']\n",
            "\n",
            " tower ['towers: 88', 'gate: 79', 'building: 79', 'built: 78', 'roof: 78']\n",
            "\n",
            " car ['truck: 92', 'cars: 89', 'vehicle: 88', 'driver: 85', 'driving: 84', 'bus: 82', 'vehicles: 82', 'parked: 79', 'motorcycle: 79', 'taxi: 78']\n",
            "\n",
            " baby ['babies: 84', 'boy: 80', 'girl: 79', 'newborn: 78', 'pregnant: 77', 'mom: 76', 'child: 76', 'toddler: 76', 'mother: 75']\n",
            "\n",
            " banana ['bananas: 82', 'coconut: 79', 'pineapple: 76', 'mango: 76']\n",
            "\n",
            " pear ['mango: 85', 'avocado: 80', 'pineapple: 80', 'pomegranate: 80', 'apricot: 79', 'plum: 79', 'peach: 79', 'tomato: 78', 'almond: 77', 'guava: 77']\n",
            "\n",
            " apple ['blackberry: 75']\n",
            "\n",
            " blackberry ['iphone: 75', 'apple: 75', 'smartphone: 75']\n",
            "\n",
            " a vector ['hockey: 75']\n",
            "\n",
            " apple ['blackberry: 75', 'chips: 74', 'iphone: 74', 'microsoft: 73', 'ipad: 73', 'pc: 72', 'ipod: 72', 'intel: 72', 'ibm: 71', 'software: 71']\n"
          ]
        }
      ]
    }
  ]
}